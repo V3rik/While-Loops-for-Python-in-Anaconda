{
 "cells": [
  {
   "cell_type": "markdown",
   "id": "dd2354c9",
   "metadata": {},
   "source": [
    "# Estrutura While\n",
    "\n",
    "Funcionamento: Usamos o While quando queremos repetir um código de forma indeterminada até uma condição se tornar verdadeira/falsa.\n",
    "\n",
    "usamos quando queremos repetir muitas vezes o mesmo código.\n",
    "\n",
    "A logica é: enquanto a condição for verdadeira, o while executa o código. Assim que ela terminar de ser verdadeira, o código \"sai\" do While.\n",
    "    "
   ]
  },
  {
   "cell_type": "markdown",
   "id": "42c4f482",
   "metadata": {},
   "source": [
    "While condição:\n",
    "    repete esse código."
   ]
  },
  {
   "cell_type": "markdown",
   "id": "7776597f",
   "metadata": {},
   "source": [
    "exemplo 1 - Quando criamos automação na internet.\n",
    "\n",
    "exemplo 2 - crie um programa que funcione como o registro de vendas de uma empresa.\n",
    "\n",
    "Nele, a gente deve inserir o nome do produto e o produto deve ser adicionado na lista de venda. Enquanto o usuário não encerrar o programa, significa que ele está registrando novos produtos, então o programa deve permitir a entrada de quantos produtos o usuário quiser."
   ]
  },
  {
   "cell_type": "code",
   "execution_count": null,
   "id": "96718c7f",
   "metadata": {},
   "outputs": [],
   "source": [
    "venda = input (\"registre seu produto!  Para parar envie uma resposta nula caixa vazia.\")\n",
    "vendas = []\n",
    "\n",
    "#enquanto minha variavel venda não for <> vazio faça o código abaixo.\n",
    "while venda !=\"\":\n",
    "    #Comando que permite acrescentar valor\n",
    "    vendas.append(venda)\n",
    "    #comando que pergunta \n",
    "    venda = input (\"registre seu produto!  Para parar envie uma resposta nula caixa vazia.\")\n",
    "\n",
    "print (\"registro finalizado. As vendas cadastradas foram:\", vendas)\n",
    "\n",
    "\n",
    "#OBS: esse método é excelente para desligamento do código."
   ]
  },
  {
   "cell_type": "markdown",
   "id": "a4ca9a0b",
   "metadata": {},
   "source": [
    "# Devemos ter cuidado com o While -> LOOP INFINITO.\n",
    "\n",
    "Sempre que for usar o comando while, lembre-se de ter certeza que o programa vai terminar em algum momento.\n",
    "\n",
    "exemplo:\n",
    "Digamos que temos uma lista de vendedores e as quantidades vendidas e queremos identificar todos os vendedores que bateram a meta de 50 vendas.\n"
   ]
  },
  {
   "cell_type": "code",
   "execution_count": null,
   "id": "33b9c153",
   "metadata": {},
   "outputs": [],
   "source": []
  }
 ],
 "metadata": {
  "kernelspec": {
   "display_name": "Python 3 (ipykernel)",
   "language": "python",
   "name": "python3"
  },
  "language_info": {
   "codemirror_mode": {
    "name": "ipython",
    "version": 3
   },
   "file_extension": ".py",
   "mimetype": "text/x-python",
   "name": "python",
   "nbconvert_exporter": "python",
   "pygments_lexer": "ipython3",
   "version": "3.9.12"
  }
 },
 "nbformat": 4,
 "nbformat_minor": 5
}
